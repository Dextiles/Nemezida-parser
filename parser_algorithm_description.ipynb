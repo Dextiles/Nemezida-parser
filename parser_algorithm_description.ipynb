{
 "cells": [
  {
   "cell_type": "markdown",
   "metadata": {},
   "source": [
    "## Описание нового алгоритма парсинга сайта [nemez1da.ru](https://nemez1da.ru/)"
   ]
  },
  {
   "cell_type": "markdown",
   "metadata": {},
   "source": [
    "### Навигация\n",
    "+ [Описание](#описание)\n",
    "+ [Библиотеки](#библиотеки)\n",
    "+ [Алгоритм поиска ссылок](#алгоритм-поиска-ссылок)\n",
    "+ [Алгоритм поиска конечных данных](#алгоритм-поиска-конечных-данных)\n",
    "+ [Примеры](#примеры)"
   ]
  },
  {
   "cell_type": "markdown",
   "metadata": {},
   "source": [
    "### Описание\n",
    "Инструменты парсинга соответствуют следущим критериям:\n",
    "1. Используется однопоточный режим обработки данных на всем промежутке процесса парсинга\n",
    "2. Для получения ссылок используется рекурсия\n",
    "3. Алгоритм сперва находит ссылки, только потом данные о каждом человеке\n"
   ]
  },
  {
   "cell_type": "markdown",
   "metadata": {},
   "source": [
    "### Библиотеки"
   ]
  },
  {
   "cell_type": "markdown",
   "metadata": {},
   "source": [
    "Парсинг инструментами BeautifulSoup4 и lxml"
   ]
  },
  {
   "cell_type": "code",
   "execution_count": 1,
   "metadata": {},
   "outputs": [],
   "source": [
    "from bs4 import BeautifulSoup\n",
    "import pandas as pd\n",
    "import json"
   ]
  },
  {
   "cell_type": "markdown",
   "metadata": {},
   "source": [
    "Будем использовать сессию"
   ]
  },
  {
   "cell_type": "code",
   "execution_count": 2,
   "metadata": {},
   "outputs": [],
   "source": [
    "from requests.adapters import HTTPAdapter\n",
    "from urllib3.util.retry import Retry\n",
    "import requests\n",
    "\n",
    "\n",
    "def get_session() -> requests.Session:\n",
    "    session = requests.Session()\n",
    "    retry = Retry(connect=3, backoff_factor=0.5)\n",
    "    adapter = HTTPAdapter(max_retries=retry)\n",
    "    session.mount('http://', adapter)\n",
    "    session.mount('https://', adapter)\n",
    "    return session"
   ]
  },
  {
   "cell_type": "markdown",
   "metadata": {},
   "source": [
    "### Алгоритм поиска ссылок"
   ]
  },
  {
   "cell_type": "code",
   "execution_count": 3,
   "metadata": {},
   "outputs": [],
   "source": [
    "def get_links(self, url):\n",
    "    soup_object = BeautifulSoup(get_session().get(url, headers=self.__headers).text, 'lxml')\n",
    "    person_links = soup_object.find_all('h3', {'class': 'simple-grid-grid-post-title'})\n",
    "    links = [elem.find('a').get('href') for elem in person_links]\n",
    "    self.links.extend(links)\n",
    "    print(links)\n",
    "    try:\n",
    "        next_page = soup_object.find('a', {'class': 'next page-numbers'}).get('href')\n",
    "    except AttributeError:\n",
    "        return\n",
    "    else:\n",
    "        get_links(next_page)"
   ]
  },
  {
   "cell_type": "markdown",
   "metadata": {},
   "source": [
    "### Алгоритм поиска конечных данных"
   ]
  },
  {
   "cell_type": "code",
   "execution_count": 4,
   "metadata": {},
   "outputs": [],
   "source": [
    "def get_person_data(url: str, headers: dict):\n",
    "    data_frame, photo = dict(), list()\n",
    "    try:\n",
    "        soup_object = BeautifulSoup(get_session().get(url, headers=headers).text, 'lxml')\n",
    "        data_frame['ФИО'] = [soup_object.title.text.split(\" - \")[0]]\n",
    "        for elem in soup_object.find_all('div' and 'b'):\n",
    "            key, value = elem.parent.find('b').text, elem.parent.text\n",
    "            data_frame[key] = [value.replace(key, '').strip()]\n",
    "        data_frame['Сайт'] = [url]\n",
    "        for link in soup_object.find_all('a'):\n",
    "            actual = link.get('href')\n",
    "            if str(actual).endswith('.jpg'):\n",
    "                photo.append(str(actual))\n",
    "        data_frame['Фото'] = json.dumps(photo)\n",
    "    except Exception as ex:\n",
    "        return ex\n",
    "    else:\n",
    "        return pd.DataFrame.from_dict(data_frame)"
   ]
  },
  {
   "cell_type": "markdown",
   "metadata": {},
   "source": [
    "#### В версии телеграм бота используется урезаная версия парсера конечных данных для создания фиксированных столбцов и удобной навигации по ним, оастльная же информация подргружается в процессе детального поиска"
   ]
  },
  {
   "cell_type": "code",
   "execution_count": 5,
   "metadata": {},
   "outputs": [],
   "source": [
    "def get_person_data_lite(url: str, headers: dict):\n",
    "    data_frame = dict()\n",
    "    try:\n",
    "        soup_object = BeautifulSoup(get_session().get(url, headers=headers).text, 'lxml')\n",
    "        data_frame['full_name'] = [soup_object.title.text.split(\" - \")[0]]\n",
    "        for elem in soup_object.find_all('div' and 'b'):\n",
    "            key, value = elem.parent.find('b').text, elem.parent.text\n",
    "            if key == 'Дата рождения':\n",
    "                data_frame['date_of_birth'] = [value.replace(key, '').strip()]\n",
    "            elif key == 'Категория':\n",
    "                data_frame['category'] = [value.replace(key, '').strip()]\n",
    "        if 'date_of_birth' not in data_frame:\n",
    "            data_frame['date_of_birth'] = ['Нет информации']\n",
    "        if 'category' not in data_frame:\n",
    "            data_frame['category'] = ['Нет информации']\n",
    "        data_frame['link'] = [url]\n",
    "    except Exception as ex:\n",
    "        return ex\n",
    "    else:\n",
    "        return pd.DataFrame.from_dict(data_frame)"
   ]
  },
  {
   "cell_type": "markdown",
   "metadata": {},
   "source": [
    "### В версии телеграм бота так же реализован парсинг \"На лету\" за счет имеющейся функции поиска на самом сайте. Так, мы можем создать запрос и уже потом распарсить сам ответ"
   ]
  },
  {
   "cell_type": "markdown",
   "metadata": {},
   "source": [
    "создадим конструктор ссылок"
   ]
  },
  {
   "cell_type": "code",
   "execution_count": 12,
   "metadata": {},
   "outputs": [],
   "source": [
    "def query_creator(query: str) -> str:\n",
    "    return 'https://nemez1da.ru/?s=' + query.replace(' ', '+')"
   ]
  },
  {
   "cell_type": "markdown",
   "metadata": {},
   "source": [
    "метод получения ссылок"
   ]
  },
  {
   "cell_type": "code",
   "execution_count": 13,
   "metadata": {},
   "outputs": [],
   "source": [
    "def get_links(url: str, headers: dict):\n",
    "    url1, links = query_creator(url), list()\n",
    "    soup = BeautifulSoup(get_session().get(url1, headers=headers).text, 'lxml')\n",
    "    person_links = soup.find_all('h3', {'class': 'simple-grid-grid-post-title'})\n",
    "    for link in person_links:\n",
    "        url = ''.join([i.lower() for i in url if not i.isdigit() and not i == ' '])\n",
    "        if url in link.text.lower().replace(' ', ''):\n",
    "            links.append(link.find('a').get('href'))\n",
    "    return links"
   ]
  },
  {
   "cell_type": "code",
   "execution_count": null,
   "metadata": {},
   "outputs": [],
   "source": [
    "get_links('Пермяков', headers=headers)"
   ]
  },
  {
   "cell_type": "code",
   "execution_count": 6,
   "metadata": {},
   "outputs": [],
   "source": [
    "links = list()\n",
    "headers = {'User-Agent': 'Mozilla/5.0 (Windows NT 10.0; rv:91.0) Gecko/20100101 Firefox/91.0'}\n",
    "test_person_url = 'https://nemez1da.ru/voennye-prestupniki/vsu/voenkomy-tczk/chvertko-aleksandr-valerevich-chvertko-oleksandr-valerijovich/'\n",
    "test_person_url_2 = 'https://nemez1da.ru/posobniki/network-terrorists/kabachij-roman-ivanovich-kabachij-roman-ivanovich/'\n",
    "test_link_tree = 'https://nemez1da.ru/voennye-prestupniki/'"
   ]
  },
  {
   "cell_type": "code",
   "execution_count": 7,
   "metadata": {},
   "outputs": [
    {
     "data": {
      "text/html": [
       "<div>\n",
       "<style scoped>\n",
       "    .dataframe tbody tr th:only-of-type {\n",
       "        vertical-align: middle;\n",
       "    }\n",
       "\n",
       "    .dataframe tbody tr th {\n",
       "        vertical-align: top;\n",
       "    }\n",
       "\n",
       "    .dataframe thead th {\n",
       "        text-align: right;\n",
       "    }\n",
       "</style>\n",
       "<table border=\"1\" class=\"dataframe\">\n",
       "  <thead>\n",
       "    <tr style=\"text-align: right;\">\n",
       "      <th></th>\n",
       "      <th>ФИО</th>\n",
       "      <th>Дата рождения</th>\n",
       "      <th>Должность</th>\n",
       "      <th>Проживает по адресу</th>\n",
       "      <th>ДРФО</th>\n",
       "      <th>Паспорт</th>\n",
       "      <th>Телефон</th>\n",
       "      <th>Почта</th>\n",
       "      <th>Вконтакте</th>\n",
       "      <th>Сайт</th>\n",
       "      <th>Фото</th>\n",
       "    </tr>\n",
       "  </thead>\n",
       "  <tbody>\n",
       "    <tr>\n",
       "      <th>0</th>\n",
       "      <td>Чвертко Александр Валерьевич (Чвертко Олександ...</td>\n",
       "      <td>21.08.1986</td>\n",
       "      <td>Сотрудник Киевского городского ТЦК и СП</td>\n",
       "      <td>Украина, Черниговская обл., г. Чернигов, ул. А...</td>\n",
       "      <td>3164402994</td>\n",
       "      <td>НМ152061</td>\n",
       "      <td>380442235013380933412399380937276037</td>\n",
       "      <td>glyuz.mariya@mail.ru</td>\n",
       "      <td>https://vk.com/id326711973https://vk.com/id965...</td>\n",
       "      <td>https://nemez1da.ru/voennye-prestupniki/vsu/vo...</td>\n",
       "      <td>[\"https://nemez1da.ru/wp-content/uploads/2024/...</td>\n",
       "    </tr>\n",
       "  </tbody>\n",
       "</table>\n",
       "</div>"
      ],
      "text/plain": [
       "                                                 ФИО Дата рождения  \\\n",
       "0  Чвертко Александр Валерьевич (Чвертко Олександ...    21.08.1986   \n",
       "\n",
       "                                 Должность  \\\n",
       "0  Сотрудник Киевского городского ТЦК и СП   \n",
       "\n",
       "                                 Проживает по адресу        ДРФО   Паспорт  \\\n",
       "0  Украина, Черниговская обл., г. Чернигов, ул. А...  3164402994  НМ152061   \n",
       "\n",
       "                                Телефон                 Почта  \\\n",
       "0  380442235013380933412399380937276037  glyuz.mariya@mail.ru   \n",
       "\n",
       "                                           Вконтакте  \\\n",
       "0  https://vk.com/id326711973https://vk.com/id965...   \n",
       "\n",
       "                                                Сайт  \\\n",
       "0  https://nemez1da.ru/voennye-prestupniki/vsu/vo...   \n",
       "\n",
       "                                                Фото  \n",
       "0  [\"https://nemez1da.ru/wp-content/uploads/2024/...  "
      ]
     },
     "execution_count": 7,
     "metadata": {},
     "output_type": "execute_result"
    }
   ],
   "source": [
    "get_person_data(url=test_person_url, headers=headers)"
   ]
  },
  {
   "cell_type": "code",
   "execution_count": 8,
   "metadata": {},
   "outputs": [
    {
     "data": {
      "text/html": [
       "<div>\n",
       "<style scoped>\n",
       "    .dataframe tbody tr th:only-of-type {\n",
       "        vertical-align: middle;\n",
       "    }\n",
       "\n",
       "    .dataframe tbody tr th {\n",
       "        vertical-align: top;\n",
       "    }\n",
       "\n",
       "    .dataframe thead th {\n",
       "        text-align: right;\n",
       "    }\n",
       "</style>\n",
       "<table border=\"1\" class=\"dataframe\">\n",
       "  <thead>\n",
       "    <tr style=\"text-align: right;\">\n",
       "      <th></th>\n",
       "      <th>ФИО</th>\n",
       "      <th>Дата рождения</th>\n",
       "      <th>Категория</th>\n",
       "      <th>Зарегистрирован по адресу</th>\n",
       "      <th>Проживает по адресу</th>\n",
       "      <th>ДРФО</th>\n",
       "      <th>Паспорт</th>\n",
       "      <th>Телефон</th>\n",
       "      <th>Телеграм</th>\n",
       "      <th>Почта</th>\n",
       "      <th>Деятельность</th>\n",
       "      <th>Дополнительно</th>\n",
       "      <th>Сайт</th>\n",
       "      <th>Фото</th>\n",
       "    </tr>\n",
       "  </thead>\n",
       "  <tbody>\n",
       "    <tr>\n",
       "      <th>0</th>\n",
       "      <td>Кабачий Роман Иванович (Кабачій Роман Іванович)</td>\n",
       "      <td>03.03.1978</td>\n",
       "      <td>Сетевые террористы</td>\n",
       "      <td>Украина, Киевская обл., г. Буча, ул. Энергетик...</td>\n",
       "      <td>Украина, Херсонская обл., г. Херсон, ул. Литей...</td>\n",
       "      <td>2855118519</td>\n",
       "      <td>СТ448243</td>\n",
       "      <td>380635747085, 380666327703</td>\n",
       "      <td>1777885182</td>\n",
       "      <td>romisz_k@yahoo.de, r.kabachiy@gmail.com</td>\n",
       "      <td>Украинский историк и журналист, окончил аспира...</td>\n",
       "      <td>Предоставлял ложную информацию для Польских СМ...</td>\n",
       "      <td>https://nemez1da.ru/posobniki/network-terroris...</td>\n",
       "      <td>[\"https://nemez1da.ru/wp-content/uploads/2023/...</td>\n",
       "    </tr>\n",
       "  </tbody>\n",
       "</table>\n",
       "</div>"
      ],
      "text/plain": [
       "                                               ФИО Дата рождения  \\\n",
       "0  Кабачий Роман Иванович (Кабачій Роман Іванович)    03.03.1978   \n",
       "\n",
       "            Категория                          Зарегистрирован по адресу  \\\n",
       "0  Сетевые террористы  Украина, Киевская обл., г. Буча, ул. Энергетик...   \n",
       "\n",
       "                                 Проживает по адресу        ДРФО   Паспорт  \\\n",
       "0  Украина, Херсонская обл., г. Херсон, ул. Литей...  2855118519  СТ448243   \n",
       "\n",
       "                      Телефон    Телеграм  \\\n",
       "0  380635747085, 380666327703  1777885182   \n",
       "\n",
       "                                     Почта  \\\n",
       "0  romisz_k@yahoo.de, r.kabachiy@gmail.com   \n",
       "\n",
       "                                        Деятельность  \\\n",
       "0  Украинский историк и журналист, окончил аспира...   \n",
       "\n",
       "                                       Дополнительно  \\\n",
       "0  Предоставлял ложную информацию для Польских СМ...   \n",
       "\n",
       "                                                Сайт  \\\n",
       "0  https://nemez1da.ru/posobniki/network-terroris...   \n",
       "\n",
       "                                                Фото  \n",
       "0  [\"https://nemez1da.ru/wp-content/uploads/2023/...  "
      ]
     },
     "execution_count": 8,
     "metadata": {},
     "output_type": "execute_result"
    }
   ],
   "source": [
    "get_person_data(url=test_person_url_2, headers=headers)"
   ]
  },
  {
   "cell_type": "code",
   "execution_count": 9,
   "metadata": {},
   "outputs": [
    {
     "data": {
      "text/html": [
       "<div>\n",
       "<style scoped>\n",
       "    .dataframe tbody tr th:only-of-type {\n",
       "        vertical-align: middle;\n",
       "    }\n",
       "\n",
       "    .dataframe tbody tr th {\n",
       "        vertical-align: top;\n",
       "    }\n",
       "\n",
       "    .dataframe thead th {\n",
       "        text-align: right;\n",
       "    }\n",
       "</style>\n",
       "<table border=\"1\" class=\"dataframe\">\n",
       "  <thead>\n",
       "    <tr style=\"text-align: right;\">\n",
       "      <th></th>\n",
       "      <th>full_name</th>\n",
       "      <th>date_of_birth</th>\n",
       "      <th>category</th>\n",
       "      <th>link</th>\n",
       "    </tr>\n",
       "  </thead>\n",
       "  <tbody>\n",
       "    <tr>\n",
       "      <th>0</th>\n",
       "      <td>Чвертко Александр Валерьевич (Чвертко Олександ...</td>\n",
       "      <td>21.08.1986</td>\n",
       "      <td>Нет информации</td>\n",
       "      <td>https://nemez1da.ru/voennye-prestupniki/vsu/vo...</td>\n",
       "    </tr>\n",
       "  </tbody>\n",
       "</table>\n",
       "</div>"
      ],
      "text/plain": [
       "                                           full_name date_of_birth  \\\n",
       "0  Чвертко Александр Валерьевич (Чвертко Олександ...    21.08.1986   \n",
       "\n",
       "         category                                               link  \n",
       "0  Нет информации  https://nemez1da.ru/voennye-prestupniki/vsu/vo...  "
      ]
     },
     "execution_count": 9,
     "metadata": {},
     "output_type": "execute_result"
    }
   ],
   "source": [
    "get_person_data_lite(url=test_person_url, headers=headers)"
   ]
  },
  {
   "cell_type": "code",
   "execution_count": 10,
   "metadata": {},
   "outputs": [
    {
     "data": {
      "text/html": [
       "<div>\n",
       "<style scoped>\n",
       "    .dataframe tbody tr th:only-of-type {\n",
       "        vertical-align: middle;\n",
       "    }\n",
       "\n",
       "    .dataframe tbody tr th {\n",
       "        vertical-align: top;\n",
       "    }\n",
       "\n",
       "    .dataframe thead th {\n",
       "        text-align: right;\n",
       "    }\n",
       "</style>\n",
       "<table border=\"1\" class=\"dataframe\">\n",
       "  <thead>\n",
       "    <tr style=\"text-align: right;\">\n",
       "      <th></th>\n",
       "      <th>full_name</th>\n",
       "      <th>date_of_birth</th>\n",
       "      <th>category</th>\n",
       "      <th>link</th>\n",
       "    </tr>\n",
       "  </thead>\n",
       "  <tbody>\n",
       "    <tr>\n",
       "      <th>0</th>\n",
       "      <td>Кабачий Роман Иванович (Кабачій Роман Іванович)</td>\n",
       "      <td>03.03.1978</td>\n",
       "      <td>Сетевые террористы</td>\n",
       "      <td>https://nemez1da.ru/posobniki/network-terroris...</td>\n",
       "    </tr>\n",
       "  </tbody>\n",
       "</table>\n",
       "</div>"
      ],
      "text/plain": [
       "                                         full_name date_of_birth  \\\n",
       "0  Кабачий Роман Иванович (Кабачій Роман Іванович)    03.03.1978   \n",
       "\n",
       "             category                                               link  \n",
       "0  Сетевые террористы  https://nemez1da.ru/posobniki/network-terroris...  "
      ]
     },
     "execution_count": 10,
     "metadata": {},
     "output_type": "execute_result"
    }
   ],
   "source": [
    "get_person_data_lite(url=test_person_url_2, headers=headers)"
   ]
  },
  {
   "cell_type": "code",
   "execution_count": 17,
   "metadata": {},
   "outputs": [
    {
     "data": {
      "text/plain": [
       "['https://nemez1da.ru/voennye-prestupniki/svr-ukrainy/grusha-tatyana-yurevna-grusha-tetyana-yuri%d1%97vna/',\n",
       " 'https://nemez1da.ru/voennye-prestupniki/svr-ukrainy/grusha-tatyana-yurevna-grusha-tetyana-yuri%d1%97vna-2/',\n",
       " 'https://nemez1da.ru/voennye-prestupniki/sotrudniki-sbu/sbu/grusha-dmitrij-nikolaevich-grusha-dmitro-mikolajovich/']"
      ]
     },
     "execution_count": 17,
     "metadata": {},
     "output_type": "execute_result"
    }
   ],
   "source": [
    "touch_and_parse = get_links(\"Груша\", headers=headers)\n",
    "touch_and_parse"
   ]
  },
  {
   "cell_type": "markdown",
   "metadata": {},
   "source": [
    "Вот так мы на лету получили все совпадения, теперь можно применить либой из методов парсинга странички"
   ]
  },
  {
   "cell_type": "code",
   "execution_count": 18,
   "metadata": {},
   "outputs": [
    {
     "data": {
      "text/html": [
       "<div>\n",
       "<style scoped>\n",
       "    .dataframe tbody tr th:only-of-type {\n",
       "        vertical-align: middle;\n",
       "    }\n",
       "\n",
       "    .dataframe tbody tr th {\n",
       "        vertical-align: top;\n",
       "    }\n",
       "\n",
       "    .dataframe thead th {\n",
       "        text-align: right;\n",
       "    }\n",
       "</style>\n",
       "<table border=\"1\" class=\"dataframe\">\n",
       "  <thead>\n",
       "    <tr style=\"text-align: right;\">\n",
       "      <th></th>\n",
       "      <th>ФИО</th>\n",
       "      <th>Дата рождения</th>\n",
       "      <th>Категория</th>\n",
       "      <th>Должность</th>\n",
       "      <th>Звание</th>\n",
       "      <th>Телефон</th>\n",
       "      <th>Телеграм</th>\n",
       "      <th>Деятельность</th>\n",
       "      <th>Сайт</th>\n",
       "      <th>Фото</th>\n",
       "    </tr>\n",
       "  </thead>\n",
       "  <tbody>\n",
       "    <tr>\n",
       "      <th>0</th>\n",
       "      <td>ГРУША Татьяна Юрьевна  ГРУША Тетяна Юріївна</td>\n",
       "      <td>12.01.1969</td>\n",
       "      <td>СВР Украины</td>\n",
       "      <td>специалист 1 категории</td>\n",
       "      <td>майор</td>\n",
       "      <td>380994369184380962587258</td>\n",
       "      <td>409610186</td>\n",
       "      <td>СВР Украины, ВАОЗІ 2 департамента</td>\n",
       "      <td>https://nemez1da.ru/voennye-prestupniki/svr-uk...</td>\n",
       "      <td>[]</td>\n",
       "    </tr>\n",
       "  </tbody>\n",
       "</table>\n",
       "</div>"
      ],
      "text/plain": [
       "                                           ФИО Дата рождения    Категория  \\\n",
       "0  ГРУША Татьяна Юрьевна  ГРУША Тетяна Юріївна    12.01.1969  СВР Украины   \n",
       "\n",
       "                Должность Звание                   Телефон   Телеграм  \\\n",
       "0  специалист 1 категории  майор  380994369184380962587258  409610186   \n",
       "\n",
       "                        Деятельность  \\\n",
       "0  СВР Украины, ВАОЗІ 2 департамента   \n",
       "\n",
       "                                                Сайт Фото  \n",
       "0  https://nemez1da.ru/voennye-prestupniki/svr-uk...   []  "
      ]
     },
     "execution_count": 18,
     "metadata": {},
     "output_type": "execute_result"
    }
   ],
   "source": [
    "get_person_data(url=touch_and_parse[0], headers=headers)"
   ]
  }
 ],
 "metadata": {
  "kernelspec": {
   "display_name": "Python 3",
   "language": "python",
   "name": "python3"
  },
  "language_info": {
   "codemirror_mode": {
    "name": "ipython",
    "version": 3
   },
   "file_extension": ".py",
   "mimetype": "text/x-python",
   "name": "python",
   "nbconvert_exporter": "python",
   "pygments_lexer": "ipython3",
   "version": "3.12.0"
  }
 },
 "nbformat": 4,
 "nbformat_minor": 2
}
