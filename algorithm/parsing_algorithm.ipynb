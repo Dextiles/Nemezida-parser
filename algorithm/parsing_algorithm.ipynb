{
 "cells": [
  {
   "cell_type": "markdown",
   "metadata": {},
   "source": [
    "# Описание алгоритма парсинга сайта nemez1da.ru"
   ]
  },
  {
   "cell_type": "markdown",
   "metadata": {},
   "source": [
    "### Получение всех ссылок"
   ]
  },
  {
   "cell_type": "code",
   "execution_count": 1,
   "metadata": {},
   "outputs": [],
   "source": [
    "from bs4 import BeautifulSoup"
   ]
  },
  {
   "cell_type": "code",
   "execution_count": 2,
   "metadata": {},
   "outputs": [],
   "source": [
    "headers = {'User-Agent': 'Mozilla/5.0 (Windows NT 10.0; rv:91.0) Gecko/20100101 Firefox/91.0'}"
   ]
  },
  {
   "cell_type": "code",
   "execution_count": 3,
   "metadata": {},
   "outputs": [],
   "source": [
    "from requests.adapters import HTTPAdapter\n",
    "from urllib3.util.retry import Retry\n",
    "import requests\n",
    "\n",
    "\n",
    "def get_session() -> requests.Session:\n",
    "    \"\"\"\n",
    "    Function to get a requests Session object with custom retry settings.\n",
    "    Returns:\n",
    "        requests.Session: A Session object with custom retry settings.\n",
    "    \"\"\"\n",
    "    session = requests.Session()\n",
    "    retry = Retry(connect=3, backoff_factor=0.5)\n",
    "    adapter = HTTPAdapter(max_retries=retry)\n",
    "    session.mount('http://', adapter)\n",
    "    session.mount('https://', adapter)\n",
    "    return session\n"
   ]
  },
  {
   "cell_type": "markdown",
   "metadata": {},
   "source": [
    "### для непрырвного подключения будем использовать сессию"
   ]
  },
  {
   "cell_type": "code",
   "execution_count": 4,
   "metadata": {},
   "outputs": [
    {
     "name": "stdout",
     "output_type": "stream",
     "text": [
      "Collecting lxml\n",
      "  Downloading lxml-5.2.1-cp311-cp311-win_amd64.whl.metadata (3.5 kB)\n",
      "Downloading lxml-5.2.1-cp311-cp311-win_amd64.whl (3.8 MB)\n",
      "   ---------------------------------------- 0.0/3.8 MB ? eta -:--:--\n",
      "   ---------------------------------------- 0.0/3.8 MB ? eta -:--:--\n",
      "   ---------------------------------------- 0.0/3.8 MB 660.6 kB/s eta 0:00:06\n",
      "    --------------------------------------- 0.1/3.8 MB 656.4 kB/s eta 0:00:06\n",
      "   - -------------------------------------- 0.1/3.8 MB 939.4 kB/s eta 0:00:04\n",
      "   -- ------------------------------------- 0.2/3.8 MB 1.4 MB/s eta 0:00:03\n",
      "   --- ------------------------------------ 0.3/3.8 MB 1.8 MB/s eta 0:00:02\n",
      "   ----- ---------------------------------- 0.5/3.8 MB 2.2 MB/s eta 0:00:02\n",
      "   ------ --------------------------------- 0.6/3.8 MB 2.5 MB/s eta 0:00:02\n",
      "   -------- ------------------------------- 0.8/3.8 MB 2.9 MB/s eta 0:00:02\n",
      "   ---------- ----------------------------- 1.0/3.8 MB 2.9 MB/s eta 0:00:01\n",
      "   ------------ --------------------------- 1.1/3.8 MB 3.2 MB/s eta 0:00:01\n",
      "   -------------- ------------------------- 1.4/3.8 MB 3.4 MB/s eta 0:00:01\n",
      "   ---------------- ----------------------- 1.6/3.8 MB 3.6 MB/s eta 0:00:01\n",
      "   ------------------ --------------------- 1.8/3.8 MB 3.8 MB/s eta 0:00:01\n",
      "   -------------------- ------------------- 2.0/3.8 MB 3.9 MB/s eta 0:00:01\n",
      "   ----------------------- ---------------- 2.2/3.8 MB 4.0 MB/s eta 0:00:01\n",
      "   -------------------------- ------------- 2.5/3.8 MB 4.3 MB/s eta 0:00:01\n",
      "   ----------------------------- ---------- 2.8/3.8 MB 4.4 MB/s eta 0:00:01\n",
      "   ------------------------------- -------- 3.0/3.8 MB 4.5 MB/s eta 0:00:01\n",
      "   ---------------------------------- ----- 3.3/3.8 MB 4.6 MB/s eta 0:00:01\n",
      "   ------------------------------------ --- 3.5/3.8 MB 4.7 MB/s eta 0:00:01\n",
      "   ---------------------------------------  3.8/3.8 MB 4.9 MB/s eta 0:00:01\n",
      "   ---------------------------------------- 3.8/3.8 MB 4.8 MB/s eta 0:00:00\n",
      "Installing collected packages: lxml\n",
      "Successfully installed lxml-5.2.1\n",
      "Note: you may need to restart the kernel to use updated packages.\n"
     ]
    }
   ],
   "source": [
    "pip install lxml"
   ]
  },
  {
   "cell_type": "code",
   "execution_count": null,
   "metadata": {},
   "outputs": [],
   "source": [
    "def get_person_data(self, url: str):\n",
    "    data_frame, links = dict(), list()\n",
    "    try:\n",
    "        soup_object = BeautifulSoup(get_session().get(url, headers=self.__headers).text, 'lxml')\n",
    "        data_frame['full_name'] = [soup_object.title.text.split(\" - \")[0]]\n",
    "        for elem in soup_object.find_all('div' and 'b'):\n",
    "            key, value = elem.parent.find('b').text, elem.parent.text\n",
    "            data_frame[key] = [value.replace(key, '').strip()]\n",
    "        data_frame['link'] = [url]\n",
    "        for link in soup_object.find_all('a'):\n",
    "            actual = link.get('href')\n",
    "            if str(actual).endswith('.jpg'):\n",
    "                links.append(str(actual))\n",
    "    except Exception:\n",
    "        pass\n",
    "    else:\n",
    "        return data_frame"
   ]
  }
 ],
 "metadata": {
  "kernelspec": {
   "display_name": "Python 3",
   "language": "python",
   "name": "python3"
  },
  "language_info": {
   "codemirror_mode": {
    "name": "ipython",
    "version": 3
   },
   "file_extension": ".py",
   "mimetype": "text/x-python",
   "name": "python",
   "nbconvert_exporter": "python",
   "pygments_lexer": "ipython3",
   "version": "3.11.8"
  }
 },
 "nbformat": 4,
 "nbformat_minor": 2
}
